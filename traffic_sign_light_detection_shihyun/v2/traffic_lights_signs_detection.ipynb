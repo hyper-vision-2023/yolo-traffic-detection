{
  "cells": [
    {
      "cell_type": "code",
      "execution_count": null,
      "metadata": {
        "colab": {
          "base_uri": "https://localhost:8080/"
        },
        "id": "JUKg0srARGiX",
        "outputId": "02fed1a9-37a7-4f69-c2ae-54f37ac0764b"
      },
      "outputs": [],
      "source": [
        "from google.colab import drive\n",
        "drive.mount(\"/content/drive\")"
      ]
    },
    {
      "cell_type": "code",
      "execution_count": null,
      "metadata": {
        "id": "f65X0T0nawE_"
      },
      "outputs": [],
      "source": [
        "!tar -xf drive/MyDrive/upload.tar\n",
        "!chown -R root:root datasets yolov5\n",
        "%cd yolov5"
      ]
    },
    {
      "cell_type": "code",
      "execution_count": null,
      "metadata": {
        "colab": {
          "base_uri": "https://localhost:8080/"
        },
        "id": "D5tTclwXb_J3",
        "outputId": "e1eb4d45-d12a-48a1-817d-129f7b05356b"
      },
      "outputs": [],
      "source": [
        "!python3 -m pip install -r requirements.txt\n",
        "\n",
        "# Visualize model metrics\n",
        "!python3 -m pip install comet_ml\n",
        "%env COMET_API_KEY=YOUR API KEY\n",
        "%env COMET_PROJECT_NAME=Traffic Lights/Signs Detection"
      ]
    },
    {
      "cell_type": "code",
      "execution_count": null,
      "metadata": {
        "colab": {
          "base_uri": "https://localhost:8080/"
        },
        "id": "limOj6gFcMDF",
        "outputId": "1964735b-8043-42fa-f023-582e410b8c2c"
      },
      "outputs": [],
      "source": [
        "!python3 train.py --img 640 --epochs 10 --data dataset.yaml --weights yolov5s.pt"
      ]
    },
    {
      "cell_type": "code",
      "execution_count": null,
      "metadata": {
        "colab": {
          "base_uri": "https://localhost:8080/",
          "height": 17
        },
        "id": "UicGhqfFvdlI",
        "outputId": "449bd0e4-e834-4afe-be4a-21c36a97d016"
      },
      "outputs": [],
      "source": [
        "!tar -cf runs.tar runs\n",
        "\n",
        "from google.colab import files\n",
        "files.download(\"/content/yolov5/runs.tar\")"
      ]
    }
  ],
  "metadata": {
    "accelerator": "GPU",
    "colab": {
      "gpuType": "T4",
      "provenance": []
    },
    "kernelspec": {
      "display_name": "Python 3",
      "name": "python3"
    },
    "language_info": {
      "name": "python"
    }
  },
  "nbformat": 4,
  "nbformat_minor": 0
}
